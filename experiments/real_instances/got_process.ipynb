{
 "cells": [
  {
   "cell_type": "code",
   "execution_count": 11,
   "metadata": {},
   "outputs": [
    {
     "data": {
      "text/plain": [
       "(75, 75)"
      ]
     },
     "execution_count": 11,
     "metadata": {},
     "output_type": "execute_result"
    }
   ],
   "source": [
    "import pandas as pd\n",
    "import numpy as np\n",
    "\n",
    "# Load CSV file\n",
    "df = pd.read_csv(\"got_s1.csv\")  # Ensure no header if not present\n",
    "# Reload the data to ensure correct processing\n",
    "# Construct the interaction matrix\n",
    "all_chars = pd.Index(df[\"Source\"].unique()).union(df[\"Target\"].unique())\n",
    "\n",
    "# Create a pivot table\n",
    "interaction_matrix = df.pivot(index=\"Source\", columns=\"Target\", values=\"Weight\").fillna(0)\n",
    "\n",
    "# Ensure the matrix is square by including all characters in both rows and columns\n",
    "interaction_matrix = interaction_matrix.reindex(index=all_chars, columns=all_chars, fill_value=0)\n",
    "\n",
    "# Make the matrix symmetric by adding the transposed values\n",
    "interaction_matrix = interaction_matrix + interaction_matrix.T\n",
    "\n",
    "# Iteratively remove rows/columns where the sum is exactly zero\n",
    "while True:\n",
    "    row_sums = interaction_matrix.sum(axis=1)\n",
    "    col_sums = interaction_matrix.sum(axis=0)\n",
    "\n",
    "    threshold=20#51\n",
    "    # Identify rows and columns to remove (sum = 0)\n",
    "    to_remove = row_sums[row_sums <=threshold].index.union(col_sums[col_sums <=threshold].index)\n",
    "\n",
    "    if to_remove.empty:\n",
    "        break  # Stop when no more elements need to be removed\n",
    "\n",
    "    # Remove identified rows and columns\n",
    "    interaction_matrix = interaction_matrix.drop(index=to_remove, columns=to_remove, errors='ignore')\n",
    "\n",
    "interaction_matrix=interaction_matrix-interaction_matrix.min()\n",
    "interaction_matrix=interaction_matrix/interaction_matrix.max()\n",
    "\n",
    "\n",
    "\n",
    "#np.savetxt(\"experiments/real_instances/got1_50.txt\", interaction_matrix, fmt=\"%.2f\", delimiter=\",\")\n",
    "interaction_matrix.shape\n"
   ]
  },
  {
   "cell_type": "code",
   "execution_count": 14,
   "metadata": {},
   "outputs": [
    {
     "data": {
      "text/plain": [
       "Index(['AERYS', 'ALLISER_THORNE', 'ARYA', 'BAELOR', 'BARRISTAN', 'BENJEN',\n",
       "       'BRAN', 'BRONN', 'CATELYN', 'CERSEI', 'DAENERYS', 'DAREON', 'DOREAH',\n",
       "       'DROGO', 'GENDRY', 'GREATJON_UMBER', 'GRENN', 'HODOR', 'HOUND',\n",
       "       'HUGH_OF_THE_VALE', 'ILLYRIO', 'ILYN_PAYNE', 'IRRI', 'JAIME', 'JANOS',\n",
       "       'JEOR', 'JOFFREY', 'JON', 'JON_ARRYN', 'JORAH', 'JORY_CASSEL', 'KEVAN',\n",
       "       'LANCEL', 'LITTLEFINGER', 'LORAS', 'LYSA', 'MAESTER_AEMON',\n",
       "       'MAESTER_LUWIN', 'MARILLION', 'MERYN_TRANT', 'MIRRI_MAZ_DUUR', 'MORD',\n",
       "       'MOUNTAIN', 'MYCAH', 'NED', 'OSHA', 'OTHELL_YARWYCK', 'PYCELLE', 'PYP',\n",
       "       'QOTHO', 'RAKHARO', 'RAST', 'RENLY', 'RHAEGO', 'ROBB', 'ROBERT',\n",
       "       'ROBIN', 'RODRIK', 'ROS', 'SAM', 'SANSA', 'SEPTA_MORDANE', 'SHAE',\n",
       "       'SHAGGA', 'STANNIS', 'SYRIO_FOREL', 'THEON', 'TYRION', 'TYWIN',\n",
       "       'VARDIS_EGEN', 'VARYS', 'VISERYS', 'WALDER', 'WINE_MERCHANT', 'YOREN'],\n",
       "      dtype='object')"
      ]
     },
     "execution_count": 14,
     "metadata": {},
     "output_type": "execute_result"
    }
   ],
   "source": [
    "names=interaction_matrix.columns\n",
    "names"
   ]
  },
  {
   "cell_type": "code",
   "execution_count": 2,
   "metadata": {},
   "outputs": [],
   "source": [
    "names=['ALLISER_THORNE', 'ARYA', 'BARRISTAN', 'BENJEN', 'BRAN', 'BRONN',\n",
    "       'CATELYN', 'CERSEI', 'DAENERYS', 'DOREAH', 'DROGO', 'GREATJON_UMBER',\n",
    "       'GRENN', 'HOUND', 'ILLYRIO', 'IRRI', 'JAIME', 'JEOR', 'JOFFREY', 'JON',\n",
    "       'JORAH', 'JORY_CASSEL', 'LITTLEFINGER', 'LORAS', 'LYSA',\n",
    "       'MAESTER_AEMON', 'MAESTER_LUWIN', 'MIRRI_MAZ_DUUR', 'NED', 'OSHA',\n",
    "       'PYCELLE', 'PYP', 'QOTHO', 'RAKHARO', 'RENLY', 'ROBB', 'ROBERT',\n",
    "       'ROBIN', 'RODRIK', 'ROS', 'SAM', 'SANSA', 'SEPTA_MORDANE', 'SHAE',\n",
    "       'THEON', 'TYRION', 'TYWIN', 'VARYS', 'VISERYS', 'YOREN']"
   ]
  },
  {
   "cell_type": "code",
   "execution_count": 7,
   "metadata": {},
   "outputs": [
    {
     "data": {
      "text/plain": [
       "37"
      ]
     },
     "execution_count": 7,
     "metadata": {},
     "output_type": "execute_result"
    }
   ],
   "source": [
    "len(names)"
   ]
  },
  {
   "cell_type": "code",
   "execution_count": null,
   "metadata": {},
   "outputs": [],
   "source": []
  }
 ],
 "metadata": {
  "kernelspec": {
   "display_name": "Python 3",
   "language": "python",
   "name": "python3"
  },
  "language_info": {
   "codemirror_mode": {
    "name": "ipython",
    "version": 3
   },
   "file_extension": ".py",
   "mimetype": "text/x-python",
   "name": "python",
   "nbconvert_exporter": "python",
   "pygments_lexer": "ipython3",
   "version": "3.13.2"
  }
 },
 "nbformat": 4,
 "nbformat_minor": 2
}
